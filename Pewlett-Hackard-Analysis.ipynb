{
 "cells": [
  {
   "cell_type": "code",
   "execution_count": null,
   "id": "48d46620",
   "metadata": {},
   "outputs": [],
   "source": [
    "import panda\n",
    "\n",
    "import numpy\n",
    "\n",
    "import numbers\n",
    "\n",
    "importlib datetime"
   ]
  },
  {
   "cell_type": "code",
   "execution_count": null,
   "id": "1ae815aa",
   "metadata": {},
   "outputs": [],
   "source": [
    "SELECT e.emp_no,\n",
    "\n",
    "       e.first_name,\n",
    "\n",
    "       e.last_name,\n",
    "\n",
    "       t.title,\n",
    "\n",
    "       t.from_date,\n",
    "\n",
    "       t.to_date"
   ]
  },
  {
   "cell_type": "code",
   "execution_count": null,
   "id": "df3d29f8",
   "metadata": {},
   "outputs": [],
   "source": [
    "INTO retirement_titles\n",
    "\n",
    "FROM employees as e\n",
    "\n",
    "INNER JOIN titles as t\n",
    "\n",
    "ON (e.emp_no = t.emp_no)\n",
    "\n",
    "WHERE (e.birth_date BETWEEN '1952-01-01' AND '1955-12-31')\n",
    "\n",
    "order by e.emp_no;"
   ]
  },
  {
   "cell_type": "code",
   "execution_count": null,
   "id": "9b0be3ed",
   "metadata": {},
   "outputs": [],
   "source": [
    "SELECT DISTINCT ON (emp_no) emp_no,\n",
    "\n",
    "first_name,\n",
    "\n",
    "last_name,\n",
    "\n",
    "title\n",
    "\n",
    "INTO unique_titles\n",
    "\n",
    "FROM retirement_titles\n",
    "\n",
    "ORDER BY emp_no, title DESC;"
   ]
  },
  {
   "cell_type": "code",
   "execution_count": null,
   "id": "06fb1fc7",
   "metadata": {},
   "outputs": [],
   "source": [
    "SELECT COUNT(ut.emp_no),\n",
    "\n",
    "ut.title\n",
    "\n",
    "INTO retiring_titles\n",
    "\n",
    "FROM unique_titles as ut\n",
    "\n",
    "GROUP BY title\n",
    "\n",
    "ORDER BY COUNT(title) DESC;"
   ]
  },
  {
   "cell_type": "code",
   "execution_count": null,
   "id": "ce706292",
   "metadata": {},
   "outputs": [],
   "source": [
    "SELECT DISTINCT ON(e.emp_no) e.emp_no,\n",
    "\n",
    "    e.first_name,\n",
    "\n",
    "    e.last_name,\n",
    "\n",
    "    e.birth_date,\n",
    "\n",
    "    de.from_date,\n",
    "\n",
    "    de.to_date,\n",
    "\n",
    "    t.title"
   ]
  },
  {
   "cell_type": "code",
   "execution_count": null,
   "id": "e49e9a64",
   "metadata": {},
   "outputs": [],
   "source": [
    "FROM employees as e\n",
    "\n",
    "Left outer Join dept_emp as de\n",
    "\n",
    "ON (e.emp_no = de.emp_no)\n",
    "\n",
    "Left outer Join titles as t\n",
    "\n",
    "ON (e.emp_no = t.emp_no)\n",
    "\n",
    "WHERE (e.birth_date BETWEEN '1965-01-01' AND '1965-12-31')\n",
    "\n",
    "ORDER BY e.emp_no;\n"
   ]
  }
 ],
 "metadata": {
  "kernelspec": {
   "display_name": "Python 3 (ipykernel)",
   "language": "python",
   "name": "python3"
  }
 },
 "nbformat": 4,
 "nbformat_minor": 5
}
